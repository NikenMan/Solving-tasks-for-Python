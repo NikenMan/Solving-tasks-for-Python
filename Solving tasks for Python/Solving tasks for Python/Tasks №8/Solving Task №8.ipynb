{
 "metadata": {
  "language_info": {
   "codemirror_mode": {
    "name": "ipython",
    "version": 3
   },
   "file_extension": ".py",
   "mimetype": "text/x-python",
   "name": "python",
   "nbconvert_exporter": "python",
   "pygments_lexer": "ipython3",
   "version": "3.8.5"
  },
  "orig_nbformat": 2,
  "kernelspec": {
   "name": "python385jvsc74a57bd0b3ba2566441a7c06988d0923437866b63cedc61552a5af99d1f4fb67d367b25f",
   "display_name": "Python 3.8.5 64-bit ('base': conda)"
  }
 },
 "nbformat": 4,
 "nbformat_minor": 2,
 "cells": [
  {
   "cell_type": "code",
   "execution_count": 26,
   "metadata": {},
   "outputs": [
    {
     "output_type": "stream",
     "name": "stdout",
     "text": [
      "[-58, -51, -44, -37, -30, -23, -16, -9, -2, 5]\n"
     ]
    }
   ],
   "source": [
    "def main():\n",
    "    print \"Program calculates the area of a triangle.\"\n",
    "    print\n",
    "    a, b, c = input(\"Enter triangle's sides length: \")\n",
    "    s = (a+b+c) / 2.0\n",
    "    area = sqrt(s*(s-a)*(s-b)*(s-c))\n",
    "    print \"The area is %.2f\" % area\n",
    "\n",
    "main()"
   ]
  }
 ]
}