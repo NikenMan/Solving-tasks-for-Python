{
 "metadata": {
  "language_info": {
   "codemirror_mode": {
    "name": "ipython",
    "version": 3
   },
   "file_extension": ".py",
   "mimetype": "text/x-python",
   "name": "python",
   "nbconvert_exporter": "python",
   "pygments_lexer": "ipython3",
   "version": "3.8.5"
  },
  "orig_nbformat": 2,
  "kernelspec": {
   "name": "python385jvsc74a57bd0b3ba2566441a7c06988d0923437866b63cedc61552a5af99d1f4fb67d367b25f",
   "display_name": "Python 3.8.5 64-bit ('base': conda)"
  }
 },
 "nbformat": 4,
 "nbformat_minor": 2,
 "cells": [
  {
   "cell_type": "code",
   "execution_count": 26,
   "metadata": {},
   "outputs": [
    {
     "output_type": "stream",
     "name": "stdout",
     "text": [
      "[-58, -51, -44, -37, -30, -23, -16, -9, -2, 5]\n"
     ]
    }
   ],
   "source": [
    "L=int(input(\"Length=\"))\n",
    "S=int(input(\"Start=\"))\n",
    "N=int(input(\"Number=\"))\n",
    "arr=list()\n",
    "\n",
    "i = 0\n",
    "while i < L:\n",
    "     arr.append(S+(N*i))\n",
    "     i = i + 1\n",
    "\n",
    "arr.sort()\n",
    "print(arr)"
   ]
  }
 ]
}