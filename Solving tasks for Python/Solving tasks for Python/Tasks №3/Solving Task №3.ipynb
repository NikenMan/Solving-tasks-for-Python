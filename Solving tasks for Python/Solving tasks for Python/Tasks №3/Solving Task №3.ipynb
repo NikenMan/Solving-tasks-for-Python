{
 "metadata": {
  "language_info": {
   "codemirror_mode": {
    "name": "ipython",
    "version": 3
   },
   "file_extension": ".py",
   "mimetype": "text/x-python",
   "name": "python",
   "nbconvert_exporter": "python",
   "pygments_lexer": "ipython3",
   "version": "3.8.5"
  },
  "orig_nbformat": 2,
  "kernelspec": {
   "name": "python385jvsc74a57bd0b3ba2566441a7c06988d0923437866b63cedc61552a5af99d1f4fb67d367b25f",
   "display_name": "Python 3.8.5 64-bit ('base': conda)"
  }
 },
 "nbformat": 4,
 "nbformat_minor": 2,
 "cells": [
  {
   "cell_type": "code",
   "execution_count": 17,
   "metadata": {},
   "outputs": [
    {
     "output_type": "stream",
     "name": "stdout",
     "text": [
      "1 + 2 =  3\n1 - 2 =  -1\n1 * 2 =  2\n1 / 2 =  0.5\n"
     ]
    }
   ],
   "source": [
    "a = input(\"1 number = \")\n",
    "b = input(\"2 number = \")\n",
    "a = int(a)\n",
    "b = int(b)\n",
    "print (a, \"+\", b, \"= \", a+b)\n",
    "print (a, \"-\", b, \"= \", a-b)\n",
    "print (a, \"*\", b, \"= \", a*b)\n",
    "print (a, \"/\", b, \"= \", a/b)"
   ]
  },
  {
   "cell_type": "code",
   "execution_count": null,
   "metadata": {},
   "outputs": [],
   "source": []
  }
 ]
}