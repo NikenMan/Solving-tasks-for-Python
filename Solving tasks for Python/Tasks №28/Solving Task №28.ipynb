{
 "metadata": {
  "language_info": {
   "codemirror_mode": {
    "name": "ipython",
    "version": 3
   },
   "file_extension": ".py",
   "mimetype": "text/x-python",
   "name": "python",
   "nbconvert_exporter": "python",
   "pygments_lexer": "ipython3",
   "version": "3.8.5"
  },
  "orig_nbformat": 2,
  "kernelspec": {
   "name": "python385jvsc74a57bd0b3ba2566441a7c06988d0923437866b63cedc61552a5af99d1f4fb67d367b25f",
   "display_name": "Python 3.8.5 64-bit ('base': conda)"
  }
 },
 "nbformat": 4,
 "nbformat_minor": 2,
 "cells": [
  {
   "source": [
    "def factors(num, d=2):\n",
    "    while num > 1:\n",
    "        n1, n2 = divmod(num, d)\n",
    "        if n2:\n",
    "            d += 1\n",
    "        else:\n",
    "            yield d\n",
    "            num = n1\n",
    "\n",
    "n = int(input(\"Integer: \"))\n",
    "print('{} = {}' .format(n, ' * '.join(map(str, factors(n)))))\n"
   ],
   "cell_type": "code",
   "metadata": {},
   "execution_count": 13,
   "outputs": [
    {
     "output_type": "stream",
     "name": "stdout",
     "text": [
      "999 = 3 * 3 * 3 * 37\n"
     ]
    }
   ]
  },
  {
   "cell_type": "code",
   "execution_count": null,
   "metadata": {},
   "outputs": [],
   "source": []
  }
 ]
}