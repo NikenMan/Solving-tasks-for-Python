{
 "metadata": {
  "language_info": {
   "codemirror_mode": {
    "name": "ipython",
    "version": 3
   },
   "file_extension": ".py",
   "mimetype": "text/x-python",
   "name": "python",
   "nbconvert_exporter": "python",
   "pygments_lexer": "ipython3",
   "version": "3.8.5"
  },
  "orig_nbformat": 2,
  "kernelspec": {
   "name": "python385jvsc74a57bd0b3ba2566441a7c06988d0923437866b63cedc61552a5af99d1f4fb67d367b25f",
   "display_name": "Python 3.8.5 64-bit ('base': conda)"
  }
 },
 "nbformat": 4,
 "nbformat_minor": 2,
 "cells": [
  {
   "cell_type": "code",
   "execution_count": 14,
   "metadata": {},
   "outputs": [
    {
     "output_type": "stream",
     "name": "stdout",
     "text": [
      "[0, 2, 3]\n"
     ]
    }
   ],
   "source": [
    "import random\n",
    "\n",
    "\n",
    "def bogo_sort(collection):\n",
    "\n",
    "    def is_sorted(collection):\n",
    "        if len(collection) < 2:\n",
    "            return True\n",
    "        for i in range(len(collection) - 1):\n",
    "            if collection[i] > collection[i + 1]:\n",
    "                return False\n",
    "        return True\n",
    "\n",
    "    while not is_sorted(collection):\n",
    "        random.shuffle(collection)\n",
    "    return collection\n",
    "\n",
    "\n",
    "if __name__ == \"__main__\":\n",
    "    user_input = input(\"Введите числа через запятую:\\n\").strip()\n",
    "    unsorted = [int(item) for item in user_input.split(\",\")]\n",
    "    print(bogo_sort(unsorted))\n"
   ]
  },
  {
   "cell_type": "code",
   "execution_count": null,
   "metadata": {},
   "outputs": [],
   "source": []
  }
 ]
}