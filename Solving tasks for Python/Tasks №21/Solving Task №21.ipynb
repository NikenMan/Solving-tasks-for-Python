{
 "metadata": {
  "language_info": {
   "codemirror_mode": {
    "name": "ipython",
    "version": 3
   },
   "file_extension": ".py",
   "mimetype": "text/x-python",
   "name": "python",
   "nbconvert_exporter": "python",
   "pygments_lexer": "ipython3",
   "version": "3.8.5"
  },
  "orig_nbformat": 2,
  "kernelspec": {
   "name": "python385jvsc74a57bd0b3ba2566441a7c06988d0923437866b63cedc61552a5af99d1f4fb67d367b25f",
   "display_name": "Python 3.8.5 64-bit ('base': conda)"
  }
 },
 "nbformat": 4,
 "nbformat_minor": 2,
 "cells": [
  {
   "cell_type": "code",
   "execution_count": 16,
   "metadata": {},
   "outputs": [
    {
     "output_type": "stream",
     "name": "stdout",
     "text": [
      "Normal\n"
     ]
    }
   ],
   "source": [
    "#Формула\n",
    "m = float (input(\"Введите ваш вес в кг: \"))\n",
    "h = float (input(\"Введите ваш рост в см: \"))\n",
    "h = h/100 #переводим в метры\n",
    "index_mass = float(m / (h*h)) # формула из википедиа\n",
    "\n",
    "#Условия, сокращение до 2х знаков после запятой:\n",
    "\n",
    "if float(index_mass) <= 18.5:\n",
    "    print (\"Underweight\")\n",
    "elif float(index_mass) >= 18.5 and float(index_mass) <= 24.99:\n",
    "    print (\"Normal\")\n",
    "elif float(index_mass) >= 25 and float(index_mass) <= 30:\n",
    "    print (\"Overweight\")\n",
    "elif float(index_mass) >= 30 and float(index_mass) <= 35:\n",
    "    print (\"Obesity\")\n",
    "\n"
   ]
  },
  {
   "cell_type": "code",
   "execution_count": null,
   "metadata": {},
   "outputs": [],
   "source": []
  }
 ]
}